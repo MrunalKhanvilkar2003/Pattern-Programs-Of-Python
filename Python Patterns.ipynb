{
 "cells": [
  {
   "cell_type": "code",
   "execution_count": 2,
   "id": "d08be0c9",
   "metadata": {},
   "outputs": [
    {
     "name": "stdout",
     "output_type": "stream",
     "text": [
      "*\r\n",
      "**\r\n",
      "***\r\n",
      "****\r\n",
      "*****\r\n"
     ]
    }
   ],
   "source": [
    "for i in range (1,6,1):\n",
    "    for j in range(1,i+1,1):\n",
    "        print(\"*\",end=\"\")\n",
    "    print(\"\\r\")    "
   ]
  },
  {
   "cell_type": "code",
   "execution_count": null,
   "id": "821913c1",
   "metadata": {},
   "outputs": [],
   "source": []
  },
  {
   "cell_type": "code",
   "execution_count": 4,
   "id": "98df6d40",
   "metadata": {},
   "outputs": [
    {
     "name": "stdout",
     "output_type": "stream",
     "text": [
      "*****\r\n",
      "****\r\n",
      "***\r\n",
      "**\r\n",
      "*\r\n"
     ]
    }
   ],
   "source": [
    "for i in range(1,6,1):\n",
    "    for j in range(1,6-i+1,1):\n",
    "        print(\"*\",end=\"\")\n",
    "    print(\"\\r\")    "
   ]
  },
  {
   "cell_type": "code",
   "execution_count": 5,
   "id": "b14d53a2",
   "metadata": {},
   "outputs": [
    {
     "name": "stdout",
     "output_type": "stream",
     "text": [
      "    *\r\n",
      "   **\r\n",
      "  ***\r\n",
      " ****\r\n",
      "*****\r\n"
     ]
    }
   ],
   "source": [
    "for i in range(1,6,1):\n",
    "    for k in range(1,6-i,1):\n",
    "        print(\" \",end='')\n",
    "    for j in range(1,i+1,1):\n",
    "        print(\"*\",end=\"\")\n",
    "    print(\"\\r\")       "
   ]
  },
  {
   "cell_type": "code",
   "execution_count": 9,
   "id": "8564473f",
   "metadata": {},
   "outputs": [
    {
     "name": "stdout",
     "output_type": "stream",
     "text": [
      "*****\r\n",
      " ****\r\n",
      "  ***\r\n",
      "   **\r\n",
      "    *\r\n"
     ]
    }
   ],
   "source": [
    " for i in range(1,6,1):\n",
    "    for k in range(1,i,1):\n",
    "        print(\" \",end='')\n",
    "    for j in range(1,6-i+1,1):\n",
    "        print(\"*\",end=\"\")\n",
    "    print(\"\\r\")    "
   ]
  },
  {
   "cell_type": "code",
   "execution_count": 10,
   "id": "b653a443",
   "metadata": {},
   "outputs": [
    {
     "name": "stdout",
     "output_type": "stream",
     "text": [
      "    * \r\n",
      "   * * \r\n",
      "  * * * \r\n",
      " * * * * \r\n",
      "* * * * * \r\n"
     ]
    }
   ],
   "source": [
    "for i in range(1,6,1):\n",
    "    for k in range(1,6-i,1):\n",
    "        print(\" \",end='')\n",
    "    for j in range(1,i+1,1):\n",
    "        print(\"* \",end=\"\")\n",
    "    print(\"\\r\")           "
   ]
  },
  {
   "cell_type": "code",
   "execution_count": 11,
   "id": "5f1a1eaa",
   "metadata": {},
   "outputs": [
    {
     "name": "stdout",
     "output_type": "stream",
     "text": [
      "* * * * * \r\n",
      " * * * * \r\n",
      "  * * * \r\n",
      "   * * \r\n",
      "    * \r\n"
     ]
    }
   ],
   "source": [
    "for i in range(1,6,1):\n",
    "    for k in range(1,i,1):\n",
    "        print(\" \",end='')\n",
    "    for j in range(1,6-i+1,1):\n",
    "        print(\"* \",end=\"\")\n",
    "    print(\"\\r\")    "
   ]
  },
  {
   "cell_type": "code",
   "execution_count": 12,
   "id": "eb02fd38",
   "metadata": {},
   "outputs": [
    {
     "name": "stdout",
     "output_type": "stream",
     "text": [
      "    1\r\n",
      "   22\r\n",
      "  333\r\n",
      " 4444\r\n",
      "55555\r\n"
     ]
    }
   ],
   "source": [
    "for i in range(1,6,1):\n",
    "    for k in range(1,6-i,1):\n",
    "        print(\" \",end='')\n",
    "    for j in range(1,i+1,1):\n",
    "        print(i,end=\"\")\n",
    "    print(\"\\r\") "
   ]
  },
  {
   "cell_type": "code",
   "execution_count": 13,
   "id": "a6defd7c",
   "metadata": {},
   "outputs": [
    {
     "name": "stdout",
     "output_type": "stream",
     "text": [
      "    1\r\n",
      "   12\r\n",
      "  123\r\n",
      " 1234\r\n",
      "12345\r\n"
     ]
    }
   ],
   "source": [
    "for i in range(1,6,1):\n",
    "    for k in range(1,6-i,1):\n",
    "        print(\" \",end='')\n",
    "    for j in range(1,i+1,1):\n",
    "        print(j,end=\"\")\n",
    "    print(\"\\r\") "
   ]
  },
  {
   "cell_type": "code",
   "execution_count": 14,
   "id": "e946c925",
   "metadata": {},
   "outputs": [
    {
     "name": "stdout",
     "output_type": "stream",
     "text": [
      "1\r\n",
      "23\r\n",
      "456\r\n",
      "78910\r\n",
      "1112131415\r\n"
     ]
    }
   ],
   "source": [
    "a=1\n",
    "for i in range(1,6,1):\n",
    "    for j in range(1,i+1,1):\n",
    "        print(a,end='')\n",
    "        a=a+1\n",
    "    print(\"\\r\")    "
   ]
  },
  {
   "cell_type": "code",
   "execution_count": 19,
   "id": "b6d65ef5",
   "metadata": {},
   "outputs": [
    {
     "name": "stdout",
     "output_type": "stream",
     "text": [
      "*\r\n",
      "oo\r\n",
      "***\r\n",
      "oooo\r\n"
     ]
    }
   ],
   "source": [
    "for i in range (1,5,1):\n",
    "    for j in range(1,1+i,1):\n",
    "        if i%2==0:\n",
    "            print(\"o\",end='')\n",
    "        else:\n",
    "            print(\"*\",end='')\n",
    "    print(\"\\r\")    "
   ]
  },
  {
   "cell_type": "code",
   "execution_count": 7,
   "id": "7e0b158f",
   "metadata": {},
   "outputs": [
    {
     "name": "stdout",
     "output_type": "stream",
     "text": [
      "    1\r\n",
      "   121\r\n",
      "  12321\r\n",
      " 1234321\r\n",
      "123454321\r\n"
     ]
    }
   ],
   "source": [
    "for i in range(1,6,1):\n",
    "    for k in range(1,6-i,1):\n",
    "        print(\" \",end='')\n",
    "    for j in range(1,i+1,1):\n",
    "        print(j,end=\"\")\n",
    "    for l in range(1,i,1):\n",
    "        i=i-1\n",
    "        print(i,end=\"\")\n",
    "        \n",
    "    print(\"\\r\") "
   ]
  },
  {
   "cell_type": "code",
   "execution_count": 1,
   "id": "9ded5121",
   "metadata": {},
   "outputs": [
    {
     "name": "stdout",
     "output_type": "stream",
     "text": [
      "    *\r\n",
      "   ***\r\n",
      "  *****\r\n",
      " *******\r\n",
      "*********\r\n"
     ]
    }
   ],
   "source": [
    "for i in range(1,6,1):\n",
    "    for k in range(1,6-i,1):\n",
    "        print(\" \",end='')\n",
    "    for j in range(1,i+1,1):\n",
    "        print(\"*\",end=\"\")\n",
    "    for l in range(1,i,1):\n",
    "        i=i-1\n",
    "        print(\"*\",end=\"\")\n",
    "        \n",
    "    print(\"\\r\") "
   ]
  },
  {
   "cell_type": "code",
   "execution_count": 9,
   "id": "39c88441",
   "metadata": {},
   "outputs": [
    {
     "name": "stdout",
     "output_type": "stream",
     "text": [
      "\r\n",
      "1\r\n",
      "22\r\n",
      "333\r\n",
      "4444\r\n",
      "55555\r\n"
     ]
    }
   ],
   "source": [
    "for i in range(6):\n",
    "    for j in range(1,i+1,1):\n",
    "        print(i,end=\"\")\n",
    "    print(\"\\r\")"
   ]
  },
  {
   "cell_type": "code",
   "execution_count": 23,
   "id": "45136c8d",
   "metadata": {},
   "outputs": [
    {
     "name": "stdout",
     "output_type": "stream",
     "text": [
      "     \r\n",
      "    1\r\n",
      "   21\r\n",
      "  321\r\n",
      " 4321\r\n",
      "54321\r\n"
     ]
    }
   ],
   "source": [
    "for i in range(1,7,1):\n",
    "    for k in range(1,7-i,1):\n",
    "        print(\" \",end=\"\")\n",
    "    for l in range(1,i,1):\n",
    "        i=i-1\n",
    "        print(i,end=\"\")\n",
    "    print(\"\\r\")\n",
    "       "
   ]
  },
  {
   "cell_type": "code",
   "execution_count": null,
   "id": "a05f2416",
   "metadata": {},
   "outputs": [],
   "source": []
  }
 ],
 "metadata": {
  "kernelspec": {
   "display_name": "Python 3 (ipykernel)",
   "language": "python",
   "name": "python3"
  },
  "language_info": {
   "codemirror_mode": {
    "name": "ipython",
    "version": 3
   },
   "file_extension": ".py",
   "mimetype": "text/x-python",
   "name": "python",
   "nbconvert_exporter": "python",
   "pygments_lexer": "ipython3",
   "version": "3.11.5"
  }
 },
 "nbformat": 4,
 "nbformat_minor": 5
}
